{
 "cells": [
  {
   "cell_type": "markdown",
   "id": "eleven-attention",
   "metadata": {},
   "source": [
    "# 概要\n",
    "\n",
    "アノテーションデータセットを確認する。"
   ]
  },
  {
   "cell_type": "code",
   "execution_count": 1,
   "id": "posted-branch",
   "metadata": {},
   "outputs": [],
   "source": [
    "%config Completer.use_jedi = False"
   ]
  },
  {
   "cell_type": "code",
   "execution_count": 2,
   "id": "through-trance",
   "metadata": {},
   "outputs": [],
   "source": [
    "from chainercv.chainer_experimental.datasets.sliceable import TupleDataset\n",
    "from chainercv.visualizations import vis_bbox\n",
    "\n",
    "from src.preprocessor import ChocoPreProcessor"
   ]
  },
  {
   "cell_type": "code",
   "execution_count": 3,
   "id": "familiar-shareware",
   "metadata": {},
   "outputs": [],
   "source": [
    "from ipywidgets import interact, interactive, fixed, interact_manual\n",
    "import ipywidgets as widgets"
   ]
  },
  {
   "cell_type": "code",
   "execution_count": 4,
   "id": "stylish-detail",
   "metadata": {},
   "outputs": [],
   "source": [
    "%matplotlib inline\n",
    "import matplotlib.pyplot as plt\n",
    "import seaborn as sns\n",
    "sns.set()\n",
    "c_list = sns.color_palette().as_hex()\n",
    "color_num = len(c_list)"
   ]
  },
  {
   "cell_type": "code",
   "execution_count": 5,
   "id": "dangerous-retention",
   "metadata": {},
   "outputs": [],
   "source": [
    "%load_ext autoreload\n",
    "%autoreload 2"
   ]
  },
  {
   "cell_type": "code",
   "execution_count": 6,
   "id": "found-namibia",
   "metadata": {},
   "outputs": [],
   "source": [
    "IMG_DIR = \"../data/res_images\"\n",
    "BBOX_DIR = \"../data/res_images\"\n",
    "CLASSES_FILE = \"../data/classes.txt\""
   ]
  },
  {
   "cell_type": "code",
   "execution_count": 7,
   "id": "chubby-memphis",
   "metadata": {},
   "outputs": [
    {
     "data": {
      "text/plain": [
       "{'choco-ball': 0, 'choco-package': 1}"
      ]
     },
     "execution_count": 7,
     "metadata": {},
     "output_type": "execute_result"
    }
   ],
   "source": [
    "choco_prep = ChocoPreProcessor()\n",
    "choco_prep.set_classes(class_file=CLASSES_FILE)"
   ]
  },
  {
   "cell_type": "code",
   "execution_count": 8,
   "id": "usual-treat",
   "metadata": {},
   "outputs": [
    {
     "name": "stderr",
     "output_type": "stream",
     "text": [
      "100%|██████████| 33/33 [00:00<00:00, 223.15it/s]\n"
     ]
    }
   ],
   "source": [
    "_ = choco_prep.set_dataset(anno_dir=BBOX_DIR, img_dir=IMG_DIR)\n",
    "bboxs = choco_prep.get_bbox_list()\n",
    "imgs = choco_prep.get_img_array()\n",
    "obj_ids = choco_prep.get_object_ids_list()\n",
    "classes = choco_prep.get_object_classes()"
   ]
  },
  {
   "cell_type": "code",
   "execution_count": 9,
   "id": "perfect-buddy",
   "metadata": {},
   "outputs": [],
   "source": [
    "dataset = TupleDataset(('img', imgs), ('bbox', bboxs), ('label', obj_ids))"
   ]
  },
  {
   "cell_type": "code",
   "execution_count": 10,
   "id": "minus-flashing",
   "metadata": {},
   "outputs": [],
   "source": [
    "def plot_labeled_data(idx=1):\n",
    "    tmp_img, tmp_bboxs, tmp_labels = dataset[idx]\n",
    "    vis_bbox(tmp_img, tmp_bboxs, tmp_labels, label_names=classes)\n",
    "    plt.show()"
   ]
  },
  {
   "cell_type": "code",
   "execution_count": 11,
   "id": "roman-secretary",
   "metadata": {},
   "outputs": [
    {
     "data": {
      "application/vnd.jupyter.widget-view+json": {
       "model_id": "8ea72b5689a04e5b870542c2c2cebe42",
       "version_major": 2,
       "version_minor": 0
      },
      "text/plain": [
       "interactive(children=(IntSlider(value=1, description='idx', max=33), Output()), _dom_classes=('widget-interact…"
      ]
     },
     "metadata": {},
     "output_type": "display_data"
    },
    {
     "data": {
      "text/plain": [
       "<function __main__.plot_labeled_data(idx=1)>"
      ]
     },
     "execution_count": 11,
     "metadata": {},
     "output_type": "execute_result"
    }
   ],
   "source": [
    "interact(plot_labeled_data, idx=(0, len(dataset)))"
   ]
  },
  {
   "cell_type": "code",
   "execution_count": null,
   "id": "thirty-species",
   "metadata": {},
   "outputs": [],
   "source": []
  }
 ],
 "metadata": {
  "kernelspec": {
   "display_name": "Python 3",
   "language": "python",
   "name": "python3"
  },
  "language_info": {
   "codemirror_mode": {
    "name": "ipython",
    "version": 3
   },
   "file_extension": ".py",
   "mimetype": "text/x-python",
   "name": "python",
   "nbconvert_exporter": "python",
   "pygments_lexer": "ipython3",
   "version": "3.6.9"
  }
 },
 "nbformat": 4,
 "nbformat_minor": 5
}

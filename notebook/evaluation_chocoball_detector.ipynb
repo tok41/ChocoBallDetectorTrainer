{
 "cells": [
  {
   "cell_type": "markdown",
   "id": "living-response",
   "metadata": {},
   "source": [
    "# About\n",
    "\n",
    "ChocoBallDetectorの学習済みモデルを評価する。\n",
    "\n",
    "評価指標は、チョコボール検出個数のMSE。チョコボール個数を数えることが目的なんで。"
   ]
  },
  {
   "cell_type": "code",
   "execution_count": 1,
   "id": "soviet-portland",
   "metadata": {},
   "outputs": [],
   "source": [
    "%config Completer.use_jedi = False"
   ]
  },
  {
   "cell_type": "code",
   "execution_count": 2,
   "id": "genetic-championship",
   "metadata": {},
   "outputs": [],
   "source": [
    "from ipywidgets import interact\n",
    "import ipywidgets as widgets\n",
    "import logging"
   ]
  },
  {
   "cell_type": "code",
   "execution_count": 3,
   "id": "stopped-butter",
   "metadata": {},
   "outputs": [],
   "source": [
    "from src import util\n",
    "from src.preprocessor import ChocoPreProcessor\n",
    "from src.evaluator import ChocoEvaluator"
   ]
  },
  {
   "cell_type": "code",
   "execution_count": 4,
   "id": "beautiful-religious",
   "metadata": {},
   "outputs": [],
   "source": [
    "%matplotlib inline\n",
    "import matplotlib.pyplot as plt"
   ]
  },
  {
   "cell_type": "code",
   "execution_count": 5,
   "id": "listed-rhythm",
   "metadata": {},
   "outputs": [],
   "source": [
    "%load_ext autoreload\n",
    "%autoreload 2"
   ]
  },
  {
   "cell_type": "code",
   "execution_count": 6,
   "id": "saved-austria",
   "metadata": {},
   "outputs": [],
   "source": [
    "logger = logging.getLogger(__name__)\n",
    "util.set_logger(logger)"
   ]
  },
  {
   "cell_type": "code",
   "execution_count": 7,
   "id": "proprietary-calvin",
   "metadata": {},
   "outputs": [],
   "source": [
    "IMG_DIR = \"../data/test\"\n",
    "BBOX_DIR = \"../data/test\"\n",
    "CLASSES_FILE = \"../data/classes.txt\"\n",
    "OUT = \"../out\"\n",
    "MODEL = \"../out/choco_faster_rcnn.npz\""
   ]
  },
  {
   "cell_type": "markdown",
   "id": "hungry-force",
   "metadata": {},
   "source": [
    "# 評価データの前処理"
   ]
  },
  {
   "cell_type": "code",
   "execution_count": 8,
   "id": "social-trash",
   "metadata": {},
   "outputs": [
    {
     "name": "stderr",
     "output_type": "stream",
     "text": [
      "2021-03-25 13:33:40,885 - __main__ - INFO - set object class: ../data/classes.txt\n",
      "2021-03-25 13:33:40,886 - __main__ - INFO - classes: dict_keys(['choco-ball', 'choco-package'])\n"
     ]
    },
    {
     "data": {
      "text/plain": [
       "{'choco-ball': 0, 'choco-package': 1}"
      ]
     },
     "execution_count": 8,
     "metadata": {},
     "output_type": "execute_result"
    }
   ],
   "source": [
    "choco_prep = ChocoPreProcessor(logger=logger)\n",
    "choco_prep.set_classes(class_file=CLASSES_FILE)"
   ]
  },
  {
   "cell_type": "code",
   "execution_count": 9,
   "id": "polyphonic-galaxy",
   "metadata": {},
   "outputs": [
    {
     "name": "stderr",
     "output_type": "stream",
     "text": [
      "2021-03-25 13:33:40,989 - __main__ - INFO - annotation_file_path: ../data/test\n",
      "2021-03-25 13:33:40,991 - __main__ - INFO - image_file_path: ../data/test\n",
      "2021-03-25 13:33:40,993 - __main__ - INFO - annotation_file_size: 7\n",
      "100%|██████████| 7/7 [00:00<00:00, 188.08it/s]"
     ]
    },
    {
     "name": "stdout",
     "output_type": "stream",
     "text": [
      "(7, 3, 302, 402)\n"
     ]
    },
    {
     "name": "stderr",
     "output_type": "stream",
     "text": [
      "\n"
     ]
    }
   ],
   "source": [
    "dataset = choco_prep.set_dataset(anno_dir=BBOX_DIR, img_dir=IMG_DIR)\n",
    "bboxs = choco_prep.get_bbox_list()\n",
    "imgs = choco_prep.get_img_array()\n",
    "obj_ids = choco_prep.get_object_ids_list()\n",
    "classes = choco_prep.get_object_classes()\n",
    "print(imgs.shape)"
   ]
  },
  {
   "cell_type": "markdown",
   "id": "recorded-genome",
   "metadata": {},
   "source": [
    "# 評価の実行"
   ]
  },
  {
   "cell_type": "code",
   "execution_count": 10,
   "id": "arranged-drama",
   "metadata": {},
   "outputs": [],
   "source": [
    "ce = ChocoEvaluator(gpu=0)\n",
    "ce.load_model(model_file=MODEL)"
   ]
  },
  {
   "cell_type": "code",
   "execution_count": 11,
   "id": "horizontal-elizabeth",
   "metadata": {},
   "outputs": [
    {
     "name": "stdout",
     "output_type": "stream",
     "text": [
      "CPU times: user 1.3 s, sys: 104 ms, total: 1.41 s\n",
      "Wall time: 1.4 s\n"
     ]
    }
   ],
   "source": [
    "%%time\n",
    "res_list, mse = ce.evaluate_chocoball_number(images=imgs, true_labels=obj_ids)"
   ]
  },
  {
   "cell_type": "code",
   "execution_count": 12,
   "id": "lasting-shanghai",
   "metadata": {},
   "outputs": [
    {
     "name": "stdout",
     "output_type": "stream",
     "text": [
      "Evaluation Images: 7\n",
      "MSE: 0.0\n"
     ]
    }
   ],
   "source": [
    "print(f\"Evaluation Images: {imgs.shape[0]}\")\n",
    "print(f\"MSE: {mse}\")"
   ]
  },
  {
   "cell_type": "markdown",
   "id": "expected-wright",
   "metadata": {},
   "source": [
    "# 推論結果の可視化"
   ]
  },
  {
   "cell_type": "code",
   "execution_count": 13,
   "id": "spread-french",
   "metadata": {},
   "outputs": [],
   "source": [
    "def visualize_detect_image(idx):\n",
    "    fig = plt.figure(figsize=(12, 4))\n",
    "    _ = ce.vis_detect_image(res_list[idx], vis_score=True, fig=fig)\n",
    "    plt.show()"
   ]
  },
  {
   "cell_type": "code",
   "execution_count": 14,
   "id": "empty-attendance",
   "metadata": {},
   "outputs": [
    {
     "data": {
      "application/vnd.jupyter.widget-view+json": {
       "model_id": "c05fbe6a1bd7446e8f596b54e9045f16",
       "version_major": 2,
       "version_minor": 0
      },
      "text/plain": [
       "interactive(children=(Dropdown(description='dataset idx', index=3, options=(0, 1, 2, 3, 4, 5, 6), value=3), Ou…"
      ]
     },
     "metadata": {},
     "output_type": "display_data"
    },
    {
     "data": {
      "text/plain": [
       "<function __main__.visualize_detect_image(idx)>"
      ]
     },
     "execution_count": 14,
     "metadata": {},
     "output_type": "execute_result"
    }
   ],
   "source": [
    "interact(\n",
    "    visualize_detect_image, \n",
    "    idx=widgets.Dropdown(options=list(range(imgs.shape[0])), \n",
    "                         value=3, \n",
    "                         description=\"dataset idx\")\n",
    ")"
   ]
  }
 ],
 "metadata": {
  "kernelspec": {
   "display_name": "Python 3",
   "language": "python",
   "name": "python3"
  },
  "language_info": {
   "codemirror_mode": {
    "name": "ipython",
    "version": 3
   },
   "file_extension": ".py",
   "mimetype": "text/x-python",
   "name": "python",
   "nbconvert_exporter": "python",
   "pygments_lexer": "ipython3",
   "version": "3.6.9"
  }
 },
 "nbformat": 4,
 "nbformat_minor": 5
}

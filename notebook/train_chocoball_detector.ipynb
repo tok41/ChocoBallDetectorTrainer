{
 "cells": [
  {
   "cell_type": "markdown",
   "id": "fifty-elder",
   "metadata": {},
   "source": [
    "# About\n",
    "\n",
    "- ChocoballDetectorのモデルを学習する"
   ]
  },
  {
   "cell_type": "code",
   "execution_count": 1,
   "id": "early-devices",
   "metadata": {},
   "outputs": [],
   "source": [
    "%config Completer.use_jedi = False"
   ]
  },
  {
   "cell_type": "code",
   "execution_count": 2,
   "id": "cubic-biography",
   "metadata": {},
   "outputs": [],
   "source": [
    "import logging"
   ]
  },
  {
   "cell_type": "code",
   "execution_count": 3,
   "id": "fixed-trail",
   "metadata": {},
   "outputs": [],
   "source": [
    "from src import util\n",
    "from src.preprocessor import ChocoPreProcessor\n",
    "from src.trainer import ChocoTrainer"
   ]
  },
  {
   "cell_type": "code",
   "execution_count": 4,
   "id": "north-comfort",
   "metadata": {},
   "outputs": [],
   "source": [
    "%load_ext autoreload\n",
    "%autoreload 2"
   ]
  },
  {
   "cell_type": "code",
   "execution_count": 5,
   "id": "interstate-asbestos",
   "metadata": {},
   "outputs": [],
   "source": [
    "logger = logging.getLogger(__name__)\n",
    "util.set_logger(logger)"
   ]
  },
  {
   "cell_type": "code",
   "execution_count": 6,
   "id": "monetary-opposition",
   "metadata": {},
   "outputs": [],
   "source": [
    "IMG_DIR = \"../data/train\"\n",
    "BBOX_DIR = \"../data/train\"\n",
    "CLASSES_FILE = \"../data/classes.txt\"\n",
    "OUT = \"../out\""
   ]
  },
  {
   "cell_type": "markdown",
   "id": "complimentary-column",
   "metadata": {},
   "source": [
    "# 学習データの前処理"
   ]
  },
  {
   "cell_type": "code",
   "execution_count": 7,
   "id": "insured-engineer",
   "metadata": {},
   "outputs": [
    {
     "name": "stderr",
     "output_type": "stream",
     "text": [
      "2021-03-23 08:06:51,768 - __main__ - INFO - set object class: ../data/classes.txt\n",
      "2021-03-23 08:06:51,770 - __main__ - INFO - classes: dict_keys(['choco-ball', 'choco-package'])\n"
     ]
    },
    {
     "data": {
      "text/plain": [
       "{'choco-ball': 0, 'choco-package': 1}"
      ]
     },
     "execution_count": 7,
     "metadata": {},
     "output_type": "execute_result"
    }
   ],
   "source": [
    "choco_prep = ChocoPreProcessor(logger=logger)\n",
    "choco_prep.set_classes(class_file=CLASSES_FILE)"
   ]
  },
  {
   "cell_type": "code",
   "execution_count": 8,
   "id": "recreational-institute",
   "metadata": {},
   "outputs": [
    {
     "name": "stderr",
     "output_type": "stream",
     "text": [
      "2021-03-23 08:06:51,843 - __main__ - INFO - annotation_file_path: ../data/train\n",
      "2021-03-23 08:06:51,845 - __main__ - INFO - image_file_path: ../data/train\n",
      "2021-03-23 08:06:51,849 - __main__ - INFO - annotation_file_size: 26\n",
      "100%|██████████| 26/26 [00:00<00:00, 210.72it/s]\n"
     ]
    }
   ],
   "source": [
    "_ = choco_prep.set_dataset(anno_dir=BBOX_DIR, img_dir=IMG_DIR)\n",
    "bboxs = choco_prep.get_bbox_list()\n",
    "imgs = choco_prep.get_img_array()\n",
    "obj_ids = choco_prep.get_object_ids_list()\n",
    "classes = choco_prep.get_object_classes()"
   ]
  },
  {
   "cell_type": "markdown",
   "id": "naval-miracle",
   "metadata": {},
   "source": [
    "# Trainerのセット"
   ]
  },
  {
   "cell_type": "code",
   "execution_count": 9,
   "id": "adjusted-extra",
   "metadata": {},
   "outputs": [
    {
     "name": "stderr",
     "output_type": "stream",
     "text": [
      "2021-03-23 08:06:52,014 - __main__ - INFO - set output: ../out\n"
     ]
    },
    {
     "name": "stdout",
     "output_type": "stream",
     "text": [
      "directory not found : ../out\n",
      "make directory : ../out\n"
     ]
    }
   ],
   "source": [
    "choco_trainer = ChocoTrainer(out=OUT, step_size=300, logger=logger)"
   ]
  },
  {
   "cell_type": "code",
   "execution_count": 10,
   "id": "overhead-chassis",
   "metadata": {},
   "outputs": [
    {
     "name": "stderr",
     "output_type": "stream",
     "text": [
      "2021-03-23 08:06:52,073 - __main__ - INFO - set_dataset: 26\n",
      "2021-03-23 08:06:52,074 - __main__ - INFO - set_dataset(leys): ('img', 'bbox', 'label')\n"
     ]
    }
   ],
   "source": [
    "_ = choco_trainer.set_data(images=imgs, bboxs=bboxs, obj_ids=obj_ids)"
   ]
  },
  {
   "cell_type": "code",
   "execution_count": 11,
   "id": "comic-aside",
   "metadata": {},
   "outputs": [
    {
     "name": "stderr",
     "output_type": "stream",
     "text": [
      "2021-03-23 08:06:55,658 - __main__ - INFO - set FasterRCNNVGG16, pretrained=imagenet\n"
     ]
    }
   ],
   "source": [
    "choco_trainer.set_model(n_class=len(classes))"
   ]
  },
  {
   "cell_type": "code",
   "execution_count": 12,
   "id": "living-wireless",
   "metadata": {},
   "outputs": [
    {
     "name": "stderr",
     "output_type": "stream",
     "text": [
      "2021-03-23 08:06:55,686 - __main__ - INFO - set Optimizer: MomentumSGD\n"
     ]
    }
   ],
   "source": [
    "choco_trainer.set_optimizer()"
   ]
  },
  {
   "cell_type": "markdown",
   "id": "unknown-polyester",
   "metadata": {},
   "source": [
    "# Training"
   ]
  },
  {
   "cell_type": "code",
   "execution_count": 13,
   "id": "affiliated-italian",
   "metadata": {},
   "outputs": [
    {
     "name": "stderr",
     "output_type": "stream",
     "text": [
      "2021-03-23 08:06:56,436 - __main__ - INFO - use GPU: 0\n",
      "2021-03-23 08:06:56,437 - __main__ - INFO - the num of train-dataset: 26\n",
      "2021-03-23 08:06:56,438 - __main__ - INFO - set iterator\n",
      "2021-03-23 08:06:56,440 - __main__ - INFO - optimizer: <class 'chainer.optimizers.momentum_sgd.MomentumSGD'>\n",
      "2021-03-23 08:06:56,441 - __main__ - INFO - epochs: 20\n",
      "2021-03-23 08:06:56,442 - __main__ - INFO - run training\n"
     ]
    },
    {
     "name": "stdout",
     "output_type": "stream",
     "text": [
      "iteration   epoch       elapsed_time  lr          main/loss   main/roi_loc_loss  main/roi_cls_loss  main/rpn_loc_loss  main/rpn_cls_loss  validation/main/map\n",
      "\u001b[J26          1           9.07245       0.001       1.88953     0.510912           0.462641           0.351353           0.564621                                \n",
      "\u001b[J52          2           17.8558       0.001       1.36593     0.498837           0.298615           0.259269           0.309209                                \n",
      "\u001b[J78          3           26.5157       0.001       1.22483     0.47327            0.240237           0.23116            0.280164                                \n",
      "\u001b[J104         4           35.1942       0.001       0.970253    0.395404           0.173374           0.178025           0.22345                                 \n",
      "\u001b[J130         5           43.8103       0.001       0.849904    0.320697           0.161037           0.165445           0.202725                                \n",
      "\u001b[J156         6           52.4911       0.001       0.757433    0.282399           0.137829           0.141611           0.195594                                \n",
      "\u001b[J182         7           61.1212       0.001       0.698892    0.242531           0.132369           0.138566           0.185426                                \n",
      "\u001b[J208         8           69.8451       0.001       0.665763    0.244904           0.122613           0.121956           0.17629                                 \n",
      "\u001b[J234         9           78.5726       0.001       0.639952    0.238921           0.114177           0.125229           0.161625                                \n",
      "\u001b[J260         10          87.2682       0.001       0.618071    0.219628           0.114446           0.124315           0.159683                                \n",
      "\u001b[J286         11          117.964       0.001       0.59808     0.225372           0.119793           0.110111           0.142803                                \n",
      "\u001b[J312         12          126.649       0.0001      0.670647    0.252296           0.112978           0.144791           0.160582                                \n",
      "\u001b[J338         13          135.28        0.0001      0.61494     0.215896           0.104401           0.122344           0.1723                                  \n",
      "\u001b[J364         14          144.04        0.0001      0.512167    0.174634           0.0933721          0.0869368          0.157225                                \n",
      "\u001b[J390         15          152.741       0.0001      0.503758    0.177924           0.0947586          0.0803833          0.150691                                \n",
      "\u001b[J416         16          161.52        0.0001      0.498282    0.170762           0.101295           0.0764543          0.149771                                \n",
      "\u001b[J442         17          170.291       0.0001      0.489213    0.167866           0.0992146          0.0745405          0.147592                                \n",
      "\u001b[J468         18          179.025       0.0001      0.4691      0.163714           0.100498           0.0705745          0.134313                                \n",
      "\u001b[J494         19          187.777       0.0001      0.478439    0.163288           0.0981242          0.0741499          0.142877                                \n",
      "\u001b[J520         20          196.546       0.0001      0.486679    0.164795           0.104114           0.0724447          0.145325                                \n"
     ]
    }
   ],
   "source": [
    "choco_trainer.run()"
   ]
  },
  {
   "cell_type": "code",
   "execution_count": 14,
   "id": "worthy-commission",
   "metadata": {},
   "outputs": [
    {
     "data": {
      "image/png": "[encoded data removed]",
      "text/plain": [
       "<IPython.core.display.Image object>"
      ]
     },
     "execution_count": 14,
     "metadata": {},
     "output_type": "execute_result"
    }
   ],
   "source": [
    "from IPython.display import Image\n",
    "Image(filename=f\"{OUT}/loss.png\")"
   ]
  },
  {
   "cell_type": "code",
   "execution_count": 15,
   "id": "after-affiliation",
   "metadata": {},
   "outputs": [
    {
     "name": "stderr",
     "output_type": "stream",
     "text": [
      "2021-03-23 08:10:57,125 - __main__ - INFO - output model as npz_file: ../out/choco_faster_rcnn.npz\n"
     ]
    }
   ],
   "source": [
    "# 学習済みモデルをファイルに書き出す\n",
    "model_file = f\"{OUT}/choco_faster_rcnn.npz\"\n",
    "choco_trainer.save_model(file_name=model_file)"
   ]
  },
  {
   "cell_type": "code",
   "execution_count": null,
   "id": "unavailable-uniform",
   "metadata": {},
   "outputs": [],
   "source": []
  }
 ],
 "metadata": {
  "kernelspec": {
   "display_name": "Python 3",
   "language": "python",
   "name": "python3"
  },
  "language_info": {
   "codemirror_mode": {
    "name": "ipython",
    "version": 3
   },
   "file_extension": ".py",
   "mimetype": "text/x-python",
   "name": "python",
   "nbconvert_exporter": "python",
   "pygments_lexer": "ipython3",
   "version": "3.6.9"
  },
  "toc-autonumbering": true
 },
 "nbformat": 4,
 "nbformat_minor": 5
}

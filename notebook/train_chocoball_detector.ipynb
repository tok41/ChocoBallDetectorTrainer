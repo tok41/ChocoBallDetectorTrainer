{
 "cells": [
  {
   "cell_type": "markdown",
   "id": "wooden-resource",
   "metadata": {},
   "source": [
    "# About\n",
    "\n",
    "- ChocoballDetectorのモデルを学習する"
   ]
  },
  {
   "cell_type": "code",
   "execution_count": 1,
   "id": "adapted-bonus",
   "metadata": {},
   "outputs": [],
   "source": [
    "%config Completer.use_jedi = False"
   ]
  },
  {
   "cell_type": "code",
   "execution_count": 2,
   "id": "statutory-agriculture",
   "metadata": {},
   "outputs": [],
   "source": [
    "import logging"
   ]
  },
  {
   "cell_type": "code",
   "execution_count": 3,
   "id": "received-central",
   "metadata": {},
   "outputs": [],
   "source": [
    "from src import util\n",
    "from src.preprocessor import ChocoPreProcessor\n",
    "from src.trainer import ChocoTrainer"
   ]
  },
  {
   "cell_type": "code",
   "execution_count": 4,
   "id": "published-strike",
   "metadata": {},
   "outputs": [],
   "source": [
    "%load_ext autoreload\n",
    "%autoreload 2"
   ]
  },
  {
   "cell_type": "code",
   "execution_count": 5,
   "id": "polar-partition",
   "metadata": {},
   "outputs": [],
   "source": [
    "logger = logging.getLogger(__name__)\n",
    "util.set_logger(logger)"
   ]
  },
  {
   "cell_type": "code",
   "execution_count": 6,
   "id": "worse-forum",
   "metadata": {},
   "outputs": [],
   "source": [
    "IMG_DIR = \"../data/res_images\"\n",
    "BBOX_DIR = \"../data/res_images\"\n",
    "CLASSES_FILE = \"../data/classes.txt\"\n",
    "OUT = \"../out\""
   ]
  },
  {
   "cell_type": "markdown",
   "id": "russian-pastor",
   "metadata": {},
   "source": [
    "# 学習データの前処理"
   ]
  },
  {
   "cell_type": "code",
   "execution_count": 7,
   "id": "structured-ottawa",
   "metadata": {},
   "outputs": [
    {
     "name": "stderr",
     "output_type": "stream",
     "text": [
      "2021-03-23 02:52:14,392 - __main__ - INFO - set object class: ../data/classes.txt\n",
      "2021-03-23 02:52:14,394 - __main__ - INFO - classes: dict_keys(['choco-ball', 'choco-package'])\n"
     ]
    },
    {
     "data": {
      "text/plain": [
       "{'choco-ball': 0, 'choco-package': 1}"
      ]
     },
     "execution_count": 7,
     "metadata": {},
     "output_type": "execute_result"
    }
   ],
   "source": [
    "choco_prep = ChocoPreProcessor(logger=logger)\n",
    "choco_prep.set_classes(class_file=CLASSES_FILE)"
   ]
  },
  {
   "cell_type": "code",
   "execution_count": 8,
   "id": "paperback-niger",
   "metadata": {},
   "outputs": [
    {
     "name": "stderr",
     "output_type": "stream",
     "text": [
      "2021-03-23 02:52:14,475 - __main__ - INFO - annotation_file_path: ../data/res_images\n",
      "2021-03-23 02:52:14,476 - __main__ - INFO - image_file_path: ../data/res_images\n",
      "2021-03-23 02:52:14,479 - __main__ - INFO - annotation_file_size: 33\n",
      "100%|██████████| 33/33 [00:00<00:00, 215.58it/s]\n"
     ]
    }
   ],
   "source": [
    "_ = choco_prep.set_dataset(anno_dir=BBOX_DIR, img_dir=IMG_DIR)\n",
    "bboxs = choco_prep.get_bbox_list()\n",
    "imgs = choco_prep.get_img_array()\n",
    "obj_ids = choco_prep.get_object_ids_list()\n",
    "classes = choco_prep.get_object_classes()"
   ]
  },
  {
   "cell_type": "markdown",
   "id": "exterior-childhood",
   "metadata": {},
   "source": [
    "# Trainerのセット"
   ]
  },
  {
   "cell_type": "code",
   "execution_count": 9,
   "id": "pleased-harmony",
   "metadata": {},
   "outputs": [
    {
     "name": "stderr",
     "output_type": "stream",
     "text": [
      "2021-03-23 02:52:14,678 - __main__ - INFO - set_train_rate: 0.8\n",
      "2021-03-23 02:52:14,680 - __main__ - INFO - set output: ../out\n"
     ]
    }
   ],
   "source": [
    "choco_trainer = ChocoTrainer(out=OUT, step_size=300, logger=logger)"
   ]
  },
  {
   "cell_type": "code",
   "execution_count": 10,
   "id": "backed-bloom",
   "metadata": {},
   "outputs": [
    {
     "name": "stderr",
     "output_type": "stream",
     "text": [
      "2021-03-23 02:52:14,759 - __main__ - INFO - set_dataset: 33\n",
      "2021-03-23 02:52:14,761 - __main__ - INFO - set_dataset(leys): ('img', 'bbox', 'label')\n"
     ]
    }
   ],
   "source": [
    "_ = choco_trainer.set_data(images=imgs, bboxs=bboxs, obj_ids=obj_ids)"
   ]
  },
  {
   "cell_type": "code",
   "execution_count": 11,
   "id": "communist-biology",
   "metadata": {},
   "outputs": [
    {
     "name": "stderr",
     "output_type": "stream",
     "text": [
      "2021-03-23 02:52:18,351 - __main__ - INFO - set FasterRCNNVGG16, pretrained=imagenet\n"
     ]
    }
   ],
   "source": [
    "choco_trainer.set_model(n_class=len(classes))"
   ]
  },
  {
   "cell_type": "code",
   "execution_count": 12,
   "id": "funny-politics",
   "metadata": {},
   "outputs": [
    {
     "name": "stderr",
     "output_type": "stream",
     "text": [
      "2021-03-23 02:52:18,380 - __main__ - INFO - set Optimizer: MomentumSGD\n"
     ]
    }
   ],
   "source": [
    "choco_trainer.set_optimizer()"
   ]
  },
  {
   "cell_type": "markdown",
   "id": "specified-dublin",
   "metadata": {},
   "source": [
    "# Training"
   ]
  },
  {
   "cell_type": "code",
   "execution_count": 13,
   "id": "bacterial-suite",
   "metadata": {},
   "outputs": [
    {
     "name": "stderr",
     "output_type": "stream",
     "text": [
      "2021-03-23 02:52:19,097 - __main__ - INFO - use GPU: 0\n",
      "2021-03-23 02:52:19,098 - __main__ - INFO - the num of dataset: 33\n",
      "2021-03-23 02:52:19,099 - __main__ - INFO - the num of train_data: 26\n",
      "2021-03-23 02:52:19,101 - __main__ - INFO - set iterator\n",
      "2021-03-23 02:52:19,102 - __main__ - INFO - optimizer: <class 'chainer.optimizers.momentum_sgd.MomentumSGD'>\n",
      "2021-03-23 02:52:19,102 - __main__ - INFO - epochs: 20\n",
      "2021-03-23 02:52:19,103 - __main__ - INFO - run training\n"
     ]
    },
    {
     "name": "stdout",
     "output_type": "stream",
     "text": [
      "iteration   epoch       elapsed_time  lr          main/loss   main/roi_loc_loss  main/roi_cls_loss  main/rpn_loc_loss  main/rpn_cls_loss  validation/main/map\n",
      "\u001b[J26          1           9.18485       0.001       1.83823     0.48278            0.42839            0.365536           0.561521                                \n",
      "\u001b[J52          2           17.9528       0.001       1.39419     0.52784            0.301483           0.252603           0.312265                                \n",
      "\u001b[J78          3           26.5878       0.001       1.17405     0.485497           0.241747           0.188033           0.258775                                \n",
      "\u001b[J104         4           35.244        0.001       1.02504     0.428249           0.205202           0.170763           0.220823                                \n",
      "\u001b[J130         5           43.913        0.001       0.90685     0.380943           0.163423           0.155139           0.207344                                \n",
      "\u001b[J156         6           52.5919       0.001       0.846952    0.321043           0.146249           0.180347           0.199313                                \n",
      "\u001b[J182         7           61.2813       0.001       0.718793    0.266806           0.120775           0.14373            0.187482                                \n",
      "\u001b[J208         8           70.0065       0.001       0.668371    0.237575           0.125758           0.125294           0.179744                                \n",
      "\u001b[J234         9           78.7233       0.001       0.636837    0.231952           0.123194           0.112611           0.16908                                 \n",
      "\u001b[J260         10          87.4336       0.001       0.591611    0.209988           0.112671           0.107389           0.161564                                \n",
      "\u001b[J286         11          96.1468       0.001       0.602016    0.212895           0.12704            0.105905           0.156175                                \n",
      "\u001b[J312         12          104.847       0.0001      0.614501    0.221874           0.118319           0.123307           0.151001                                \n",
      "\u001b[J338         13          113.571       0.0001      0.562781    0.195774           0.117539           0.0968823          0.152586                                \n",
      "\u001b[J364         14          122.317       0.0001      0.496971    0.167163           0.0998652          0.0816178          0.148325                                \n",
      "\u001b[J390         15          131.077       0.0001      0.490817    0.170192           0.098975           0.0760006          0.14565                                 \n",
      "\u001b[J416         16          139.835       0.0001      0.512926    0.171941           0.100699           0.0796707          0.160616                                \n",
      "\u001b[J442         17          148.609       0.0001      0.487329    0.158171           0.0959753          0.0689355          0.164247                                \n",
      "\u001b[J468         18          157.364       0.0001      0.477903    0.161308           0.092213           0.0715322          0.15285                                 \n",
      "\u001b[J494         19          166.11        0.0001      0.466028    0.159631           0.0895421          0.0731243          0.14373                                 \n",
      "\u001b[J520         20          174.859       0.0001      0.467497    0.159394           0.090486           0.0733751          0.144243                                \n"
     ]
    }
   ],
   "source": [
    "choco_trainer.run()"
   ]
  },
  {
   "cell_type": "code",
   "execution_count": 14,
   "id": "concerned-heather",
   "metadata": {},
   "outputs": [
    {
     "data": {
      "image/png": "[encoded data removed]",
      "text/plain": [
       "<IPython.core.display.Image object>"
      ]
     },
     "execution_count": 14,
     "metadata": {},
     "output_type": "execute_result"
    }
   ],
   "source": [
    "from IPython.display import Image\n",
    "Image(filename=f\"{OUT}/loss.png\")"
   ]
  },
  {
   "cell_type": "code",
   "execution_count": 15,
   "id": "controlling-corpus",
   "metadata": {},
   "outputs": [
    {
     "name": "stderr",
     "output_type": "stream",
     "text": [
      "2021-03-23 02:57:03,357 - __main__ - INFO - output model as npz_file: ../out/choco_faster_rcnn.npz\n"
     ]
    }
   ],
   "source": [
    "# 学習済みモデルをファイルに書き出す\n",
    "model_file = f\"{OUT}/choco_faster_rcnn.npz\"\n",
    "choco_trainer.save_model(file_name=model_file)"
   ]
  },
  {
   "cell_type": "code",
   "execution_count": null,
   "id": "interested-rebate",
   "metadata": {},
   "outputs": [],
   "source": []
  }
 ],
 "metadata": {
  "kernelspec": {
   "display_name": "Python 3",
   "language": "python",
   "name": "python3"
  },
  "language_info": {
   "codemirror_mode": {
    "name": "ipython",
    "version": 3
   },
   "file_extension": ".py",
   "mimetype": "text/x-python",
   "name": "python",
   "nbconvert_exporter": "python",
   "pygments_lexer": "ipython3",
   "version": "3.6.9"
  },
  "toc-autonumbering": true
 },
 "nbformat": 4,
 "nbformat_minor": 5
}
